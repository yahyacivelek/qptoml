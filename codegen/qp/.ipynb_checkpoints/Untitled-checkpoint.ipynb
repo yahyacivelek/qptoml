{
 "cells": [
  {
   "cell_type": "code",
   "execution_count": 1,
   "metadata": {},
   "outputs": [],
   "source": [
    "import toml"
   ]
  },
  {
   "cell_type": "code",
   "execution_count": 11,
   "metadata": {},
   "outputs": [],
   "source": [
    "d = toml.load(\"../../examples/dpp.toml\")"
   ]
  },
  {
   "cell_type": "code",
   "execution_count": 13,
   "metadata": {},
   "outputs": [
    {
     "data": {
      "text/plain": [
       "{'name': 'qpp',\n",
       " 'object': [{'name': 'Table',\n",
       "   'initial': 'serving',\n",
       "   'states': {'active': {'events': [{'sig': 'TEST', 'target': 'active'},\n",
       "      {'sig': 'EAT', 'target': 'active'}],\n",
       "     'serving': {'enter': '',\n",
       "      'events': [{'sig': 'HUNGARY',\n",
       "        'target': ['active', 'active'],\n",
       "        'conditions': 'bothfree'},\n",
       "       {'sig': 'DONE', 'target': 'active'},\n",
       "       {'sig': 'EAT', 'target': 'active'},\n",
       "       {'sig': 'PAUSE', 'target': 'paused'}]},\n",
       "     'paused': {'enter': '',\n",
       "      'exit': '',\n",
       "      'events': [{'sig': 'SERVE', 'target': 'serving'},\n",
       "       {'sig': 'HUNGARY', 'target': 'paused'},\n",
       "       {'sig': 'DONE', 'target': 'paused'}]}}}},\n",
       "  {'name': 'Philo',\n",
       "   'initial': 'thinking',\n",
       "   'states': {'thinking': {'initial': '',\n",
       "     'enter': '',\n",
       "     'exit': '',\n",
       "     'events': [{'sig': 'TIMEOUT', 'target': 'hungary'},\n",
       "      {'sig': ['EAT', 'DONE'], 'target': 'thinking'}]},\n",
       "    'hungary': {'enter': '',\n",
       "     'events': [{'sig': 'EAT',\n",
       "       'target': ['eating', 'hungary'],\n",
       "       'condition': ['Q_EVT_CAST(TableEvt)->philoNum == PHILO_ID(me)']},\n",
       "      {'sig': 'DONE', 'target': 'hungary'}]},\n",
       "    'eating': {'enter': 'BSP_displayPaused(1U);',\n",
       "     'exit': 'BSP_displayPaused(0U);',\n",
       "     'events': [{'sig': 'TIMEOUT', 'target': 'thinking'},\n",
       "      {'sig': ['EAT', 'DONE'], 'target': 'eating'}]}}}]}"
      ]
     },
     "execution_count": 13,
     "metadata": {},
     "output_type": "execute_result"
    }
   ],
   "source": [
    "d"
   ]
  },
  {
   "cell_type": "code",
   "execution_count": null,
   "metadata": {},
   "outputs": [],
   "source": [
    "includeStr = \"#include qpc.h\\n#include {0}.h\"\n"
   ]
  },
  {
   "cell_type": "code",
   "execution_count": null,
   "metadata": {},
   "outputs": [],
   "source": [
    "\"\"\"\n",
    "#include \"qpc.h\"\n",
    "#include \"{projectName}.h\"\n",
    "\n",
    "Q_DEFINE_THIS_MODULE(\"{objectName}\")\n",
    "\n",
    "typedef struct {\n",
    "/* protected: */\n",
    "    QActive super;\n",
    "\n",
    "/* private: */\n",
    "\n",
    "} {objectName};\n",
    "\"\"\""
   ]
  }
 ],
 "metadata": {
  "kernelspec": {
   "display_name": "sctoml",
   "language": "python",
   "name": "sctoml"
  },
  "language_info": {
   "codemirror_mode": {
    "name": "ipython",
    "version": 3
   },
   "file_extension": ".py",
   "mimetype": "text/x-python",
   "name": "python",
   "nbconvert_exporter": "python",
   "pygments_lexer": "ipython3",
   "version": "3.7.3"
  }
 },
 "nbformat": 4,
 "nbformat_minor": 2
}
