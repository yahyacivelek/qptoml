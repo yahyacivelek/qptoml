{
 "cells": [
  {
   "cell_type": "code",
   "execution_count": 1,
   "metadata": {},
   "outputs": [],
   "source": [
    "import toml"
   ]
  },
  {
   "cell_type": "code",
   "execution_count": 30,
   "metadata": {},
   "outputs": [],
   "source": [
    "d = toml.load(\"../../examples/dpp.toml\")"
   ]
  },
  {
   "cell_type": "code",
   "execution_count": 31,
   "metadata": {},
   "outputs": [
    {
     "data": {
      "text/plain": [
       "{'name': 'qpp',\n",
       " 'object': [{'name': 'Table',\n",
       "   'initial': 'serving',\n",
       "   'states': {'active': {'events': [{'sig': 'TEST', 'target': 'active'},\n",
       "      {'sig': 'EAT', 'target': 'active'}],\n",
       "     'serving': {'enter': '',\n",
       "      'events': [{'sig': 'HUNGARY',\n",
       "        'target': ['active', 'active'],\n",
       "        'conditions': 'bothfree'},\n",
       "       {'sig': 'DONE', 'target': 'active'},\n",
       "       {'sig': 'EAT', 'target': 'active'},\n",
       "       {'sig': 'PAUSE', 'target': 'paused'}]},\n",
       "     'paused': {'enter': '',\n",
       "      'exit': '',\n",
       "      'events': [{'sig': 'SERVE', 'target': 'serving'},\n",
       "       {'sig': 'HUNGARY', 'target': 'paused'},\n",
       "       {'sig': 'DONE', 'target': 'paused'}]}}}},\n",
       "  {'name': 'Philo',\n",
       "   'initial': 'thinking',\n",
       "   'states': {'thinking': {'initial': '',\n",
       "     'enter': '',\n",
       "     'exit': '',\n",
       "     'events': [{'sig': 'TIMEOUT', 'target': 'hungary'},\n",
       "      {'sig': ['EAT', 'DONE'], 'target': 'thinking'}]},\n",
       "    'hungary': {'enter': '',\n",
       "     'events': [{'sig': 'EAT',\n",
       "       'target': ['eating', 'hungary'],\n",
       "       'condition': ['Q_EVT_CAST(TableEvt)->philoNum == PHILO_ID(me)']},\n",
       "      {'sig': 'DONE', 'target': 'hungary'}]},\n",
       "    'eating': {'enter': 'BSP_displayPaused(1U);',\n",
       "     'exit': 'BSP_displayPaused(0U);',\n",
       "     'events': [{'sig': 'TIMEOUT', 'target': 'thinking'},\n",
       "      {'sig': ['EAT', 'DONE'], 'target': 'eating'}]}}}]}"
      ]
     },
     "execution_count": 31,
     "metadata": {},
     "output_type": "execute_result"
    }
   ],
   "source": [
    "d"
   ]
  },
  {
   "cell_type": "code",
   "execution_count": null,
   "metadata": {},
   "outputs": [],
   "source": [
    "includeStr = \"#include qpc.h\\n#include {0}.h\"\n"
   ]
  },
  {
   "cell_type": "code",
   "execution_count": 25,
   "metadata": {},
   "outputs": [
    {
     "data": {
      "text/plain": [
       "'\\n#include \"qpc.h\"\\n#include \"qpp.h\"\\n\\nQ_DEFINE_THIS_MODULE(\"Table\")\\n\\ntypedef struct {\\n/* protected: */\\n    QActive super;\\n\\n/* private: */\\n\\n} Table;\\n'"
      ]
     },
     "execution_count": 25,
     "metadata": {},
     "output_type": "execute_result"
    }
   ],
   "source": [
    "\"\"\"\n",
    "#include \"qpc.h\"\n",
    "#include \"{projectName}.h\"\n",
    "\n",
    "Q_DEFINE_THIS_MODULE(\"{objectName}\")\n",
    "\n",
    "typedef struct {{\n",
    "/* protected: */\n",
    "    QActive super;\n",
    "\n",
    "/* private: */\n",
    "\n",
    "}} {objectName};\n",
    "\"\"\".format(projectName=d[\"name\"], objectName=d[\"object\"][0][\"name\"])"
   ]
  },
  {
   "cell_type": "code",
   "execution_count": 26,
   "metadata": {},
   "outputs": [],
   "source": [
    "reservedKeys = [\"enter\", \"exit\", \"events\"]"
   ]
  },
  {
   "cell_type": "code",
   "execution_count": 49,
   "metadata": {},
   "outputs": [],
   "source": [
    "def getStateNames(d):\n",
    "    names = []\n",
    "    if not isinstance(d, dict):\n",
    "        return names\n",
    "    for k,v in d.items():\n",
    "        if k in reservedKeys:\n",
    "            continue\n",
    "        else:\n",
    "            names.append(k)\n",
    "            names.extend(getStateNames(v))\n",
    "    return names"
   ]
  },
  {
   "cell_type": "code",
   "execution_count": 50,
   "metadata": {},
   "outputs": [
    {
     "data": {
      "text/plain": [
       "['active', 'serving', 'paused']"
      ]
     },
     "execution_count": 50,
     "metadata": {},
     "output_type": "execute_result"
    }
   ],
   "source": [
    "getStateNames(d[\"object\"][0][\"states\"])"
   ]
  },
  {
   "cell_type": "code",
   "execution_count": 51,
   "metadata": {},
   "outputs": [],
   "source": [
    "states = [\"initial\"]\n",
    "states += getStateNames(d[\"object\"][0][\"states\"])"
   ]
  },
  {
   "cell_type": "code",
   "execution_count": 52,
   "metadata": {},
   "outputs": [],
   "source": [
    "stateDeclerationsStr = \"static QState {name}_{objectName}({objectName} * const me, QEvt const * const e);\""
   ]
  },
  {
   "cell_type": "code",
   "execution_count": 53,
   "metadata": {},
   "outputs": [
    {
     "name": "stdout",
     "output_type": "stream",
     "text": [
      "static QState initial_Table(Table * const me, QEvt const * const e);\n",
      "static QState active_Table(Table * const me, QEvt const * const e);\n",
      "static QState serving_Table(Table * const me, QEvt const * const e);\n",
      "static QState paused_Table(Table * const me, QEvt const * const e);\n"
     ]
    }
   ],
   "source": [
    "for name in states:\n",
    "    print(stateDeclerationsStr.format(name=name, objectName=d[\"object\"][0][\"name\"]))"
   ]
  }
 ],
 "metadata": {
  "kernelspec": {
   "display_name": "sctoml",
   "language": "python",
   "name": "sctoml"
  },
  "language_info": {
   "codemirror_mode": {
    "name": "ipython",
    "version": 3
   },
   "file_extension": ".py",
   "mimetype": "text/x-python",
   "name": "python",
   "nbconvert_exporter": "python",
   "pygments_lexer": "ipython3",
   "version": "3.7.3"
  }
 },
 "nbformat": 4,
 "nbformat_minor": 2
}
